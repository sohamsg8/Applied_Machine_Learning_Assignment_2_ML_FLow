{
 "cells": [
  {
   "cell_type": "markdown",
   "metadata": {},
   "source": [
    "# AML Assignment 2"
   ]
  },
  {
   "cell_type": "markdown",
   "metadata": {},
   "source": [
    "Name- Soham Sengupta"
   ]
  },
  {
   "cell_type": "markdown",
   "metadata": {},
   "source": [
    "Roll- MDS202241"
   ]
  },
  {
   "cell_type": "code",
   "execution_count": 13,
   "metadata": {},
   "outputs": [
    {
     "name": "stdout",
     "output_type": "stream",
     "text": [
      "Collecting dvcNote: you may need to restart the kernel to use updated packages.\n",
      "\n",
      "  Downloading dvc-3.45.0-py3-none-any.whl.metadata (17 kB)\n",
      "Requirement already satisfied: colorama>=0.3.9 in c:\\users\\user\\appdata\\local\\programs\\python\\python310\\lib\\site-packages (from dvc) (0.4.5)\n",
      "Collecting configobj>=5.0.6 (from dvc)\n",
      "  Downloading configobj-5.0.8-py2.py3-none-any.whl.metadata (3.4 kB)\n",
      "Collecting distro>=1.3 (from dvc)\n",
      "  Downloading distro-1.9.0-py3-none-any.whl.metadata (6.8 kB)\n",
      "Collecting dpath<3,>=2.1.0 (from dvc)\n",
      "  Downloading dpath-2.1.6-py3-none-any.whl.metadata (15 kB)\n",
      "Collecting dvc-data<3.14,>=3.13 (from dvc)\n",
      "  Downloading dvc_data-3.13.0-py3-none-any.whl.metadata (5.0 kB)\n",
      "Collecting dvc-http>=2.29.0 (from dvc)\n",
      "  Downloading dvc_http-2.32.0-py3-none-any.whl.metadata (1.3 kB)\n",
      "Collecting dvc-render<2,>=1.0.1 (from dvc)\n",
      "  Downloading dvc_render-1.0.1-py3-none-any.whl.metadata (5.6 kB)\n",
      "Collecting dvc-studio-client<1,>=0.19 (from dvc)\n",
      "  Downloading dvc_studio_client-0.20.0-py3-none-any.whl.metadata (4.3 kB)\n",
      "Collecting dvc-task<1,>=0.3.0 (from dvc)\n",
      "  Downloading dvc_task-0.3.0-py3-none-any.whl.metadata (10 kB)\n",
      "Collecting flatten-dict<1,>=0.4.1 (from dvc)\n",
      "  Downloading flatten_dict-0.4.2-py2.py3-none-any.whl (9.7 kB)\n",
      "Collecting flufl.lock<8,>=5 (from dvc)\n",
      "  Downloading flufl.lock-7.1.1-py3-none-any.whl (11 kB)\n",
      "Collecting funcy>=1.14 (from dvc)\n",
      "  Downloading funcy-2.0-py2.py3-none-any.whl.metadata (5.9 kB)\n",
      "Collecting grandalf<1,>=0.7 (from dvc)\n",
      "  Downloading grandalf-0.8-py3-none-any.whl.metadata (1.7 kB)\n",
      "Collecting gto<2,>=1.6.0 (from dvc)\n",
      "  Downloading gto-1.7.0-py3-none-any.whl.metadata (4.2 kB)\n",
      "Collecting hydra-core>=1.1 (from dvc)\n",
      "  Downloading hydra_core-1.3.2-py3-none-any.whl.metadata (5.5 kB)\n",
      "Collecting iterative-telemetry>=0.0.7 (from dvc)\n",
      "  Downloading iterative_telemetry-0.0.8-py3-none-any.whl.metadata (4.1 kB)\n",
      "Requirement already satisfied: networkx>=2.5 in c:\\users\\user\\appdata\\local\\programs\\python\\python310\\lib\\site-packages (from dvc) (3.1)\n",
      "Requirement already satisfied: packaging>=19 in c:\\users\\user\\appdata\\local\\programs\\python\\python310\\lib\\site-packages (from dvc) (21.3)\n",
      "Collecting pathspec>=0.10.3 (from dvc)\n",
      "  Downloading pathspec-0.12.1-py3-none-any.whl.metadata (21 kB)\n",
      "Collecting platformdirs<4,>=3.1.1 (from dvc)\n",
      "  Downloading platformdirs-3.11.0-py3-none-any.whl.metadata (11 kB)\n",
      "Requirement already satisfied: psutil>=5.8 in c:\\users\\user\\appdata\\local\\programs\\python\\python310\\lib\\site-packages (from dvc) (5.9.1)\n",
      "Collecting pydot>=1.2.4 (from dvc)\n",
      "  Downloading pydot-2.0.0-py3-none-any.whl.metadata (9.6 kB)\n",
      "Collecting pygtrie>=2.3.2 (from dvc)\n",
      "  Downloading pygtrie-2.5.0-py3-none-any.whl (25 kB)\n",
      "Requirement already satisfied: pyparsing>=2.4.7 in c:\\users\\user\\appdata\\local\\programs\\python\\python310\\lib\\site-packages (from dvc) (3.0.9)\n",
      "Requirement already satisfied: requests>=2.22 in c:\\users\\user\\appdata\\local\\programs\\python\\python310\\lib\\site-packages (from dvc) (2.28.2)\n",
      "Collecting rich>=12 (from dvc)\n",
      "  Downloading rich-13.7.0-py3-none-any.whl.metadata (18 kB)\n",
      "Collecting ruamel.yaml>=0.17.11 (from dvc)\n",
      "  Downloading ruamel.yaml-0.18.6-py3-none-any.whl.metadata (23 kB)\n",
      "Collecting scmrepo<4,>=3 (from dvc)\n",
      "  Downloading scmrepo-3.1.0-py3-none-any.whl.metadata (4.8 kB)\n",
      "Collecting shortuuid>=0.5 (from dvc)\n",
      "  Downloading shortuuid-1.0.11-py3-none-any.whl (10 kB)\n",
      "Collecting shtab<2,>=1.3.4 (from dvc)\n",
      "  Downloading shtab-1.6.5-py3-none-any.whl.metadata (7.3 kB)\n",
      "Requirement already satisfied: tabulate>=0.8.7 in c:\\users\\user\\appdata\\local\\programs\\python\\python310\\lib\\site-packages (from dvc) (0.9.0)\n",
      "Collecting tomlkit>=0.11.1 (from dvc)\n",
      "  Downloading tomlkit-0.12.3-py3-none-any.whl.metadata (2.7 kB)\n",
      "Requirement already satisfied: tqdm<5,>=4.63.1 in c:\\users\\user\\appdata\\local\\programs\\python\\python310\\lib\\site-packages (from dvc) (4.65.0)\n",
      "Collecting voluptuous>=0.11.7 (from dvc)\n",
      "  Downloading voluptuous-0.14.2-py3-none-any.whl.metadata (20 kB)\n",
      "Collecting zc.lockfile>=1.2.1 (from dvc)\n",
      "  Downloading zc.lockfile-3.0.post1-py3-none-any.whl.metadata (6.2 kB)\n",
      "Requirement already satisfied: six in c:\\users\\user\\appdata\\local\\programs\\python\\python310\\lib\\site-packages (from configobj>=5.0.6->dvc) (1.16.0)\n",
      "Collecting dictdiffer>=0.8.1 (from dvc-data<3.14,>=3.13->dvc)\n",
      "  Downloading dictdiffer-0.9.0-py2.py3-none-any.whl (16 kB)\n",
      "Collecting dvc-objects<6,>=4.0.1 (from dvc-data<3.14,>=3.13->dvc)\n",
      "  Downloading dvc_objects-5.0.0-py3-none-any.whl.metadata (3.8 kB)\n",
      "Collecting fsspec>=2024.2.0 (from dvc-data<3.14,>=3.13->dvc)\n",
      "  Downloading fsspec-2024.2.0-py3-none-any.whl.metadata (6.8 kB)\n",
      "Collecting diskcache>=5.2.1 (from dvc-data<3.14,>=3.13->dvc)\n",
      "  Downloading diskcache-5.6.3-py3-none-any.whl.metadata (20 kB)\n",
      "Requirement already satisfied: attrs>=21.3.0 in c:\\users\\user\\appdata\\roaming\\python\\python310\\site-packages (from dvc-data<3.14,>=3.13->dvc) (22.2.0)\n",
      "Collecting sqltrie<1,>=0.11.0 (from dvc-data<3.14,>=3.13->dvc)\n",
      "  Downloading sqltrie-0.11.0-py3-none-any.whl.metadata (3.3 kB)\n",
      "Collecting aiohttp-retry>=2.5.0 (from dvc-http>=2.29.0->dvc)\n",
      "  Downloading aiohttp_retry-2.8.3-py3-none-any.whl (9.8 kB)\n",
      "Collecting dulwich (from dvc-studio-client<1,>=0.19->dvc)\n",
      "  Downloading dulwich-0.21.7-cp310-cp310-win_amd64.whl.metadata (4.4 kB)\n",
      "Collecting celery<6,>=5.3.0 (from dvc-task<1,>=0.3.0->dvc)\n",
      "  Downloading celery-5.3.6-py3-none-any.whl.metadata (21 kB)\n",
      "Collecting kombu<6,>=5.3.0 (from dvc-task<1,>=0.3.0->dvc)\n",
      "  Downloading kombu-5.3.5-py3-none-any.whl.metadata (3.1 kB)\n",
      "Requirement already satisfied: pywin32>=225 in c:\\users\\user\\appdata\\local\\programs\\python\\python310\\lib\\site-packages (from dvc-task<1,>=0.3.0->dvc) (304)\n",
      "Collecting atpublic>=2.3 (from flufl.lock<8,>=5->dvc)\n",
      "  Downloading atpublic-4.0-py3-none-any.whl.metadata (1.8 kB)\n",
      "Collecting typer>=0.4.1 (from gto<2,>=1.6.0->dvc)\n",
      "  Downloading typer-0.9.0-py3-none-any.whl.metadata (14 kB)\n",
      "Requirement already satisfied: pydantic!=2.0.0,<3,>=1.9.0 in c:\\users\\user\\appdata\\local\\programs\\python\\python310\\lib\\site-packages (from gto<2,>=1.6.0->dvc) (1.10.13)\n",
      "Collecting semver>=3.0.0 (from gto<2,>=1.6.0->dvc)\n",
      "  Downloading semver-3.0.2-py3-none-any.whl.metadata (5.0 kB)\n",
      "Requirement already satisfied: entrypoints in c:\\users\\user\\appdata\\local\\programs\\python\\python310\\lib\\site-packages (from gto<2,>=1.6.0->dvc) (0.4)\n",
      "Collecting omegaconf<2.4,>=2.2 (from hydra-core>=1.1->dvc)\n",
      "  Downloading omegaconf-2.3.0-py3-none-any.whl.metadata (3.9 kB)\n",
      "Collecting antlr4-python3-runtime==4.9.* (from hydra-core>=1.1->dvc)\n",
      "  Downloading antlr4-python3-runtime-4.9.3.tar.gz (117 kB)\n",
      "     -------------------------------------- 117.0/117.0 kB 3.4 MB/s eta 0:00:00\n",
      "  Preparing metadata (setup.py): started\n",
      "  Preparing metadata (setup.py): finished with status 'done'\n",
      "Requirement already satisfied: appdirs in c:\\users\\user\\appdata\\local\\programs\\python\\python310\\lib\\site-packages (from iterative-telemetry>=0.0.7->dvc) (1.4.4)\n",
      "Requirement already satisfied: filelock in c:\\users\\user\\appdata\\local\\programs\\python\\python310\\lib\\site-packages (from iterative-telemetry>=0.0.7->dvc) (3.12.4)\n",
      "Requirement already satisfied: charset-normalizer<4,>=2 in c:\\users\\user\\appdata\\local\\programs\\python\\python310\\lib\\site-packages (from requests>=2.22->dvc) (3.1.0)\n",
      "Requirement already satisfied: idna<4,>=2.5 in c:\\users\\user\\appdata\\roaming\\python\\python310\\site-packages (from requests>=2.22->dvc) (3.4)\n",
      "Requirement already satisfied: urllib3<1.27,>=1.21.1 in c:\\users\\user\\appdata\\local\\programs\\python\\python310\\lib\\site-packages (from requests>=2.22->dvc) (1.26.15)\n",
      "Requirement already satisfied: certifi>=2017.4.17 in c:\\users\\user\\appdata\\local\\programs\\python\\python310\\lib\\site-packages (from requests>=2.22->dvc) (2022.12.7)\n",
      "Collecting markdown-it-py>=2.2.0 (from rich>=12->dvc)\n",
      "  Downloading markdown_it_py-3.0.0-py3-none-any.whl.metadata (6.9 kB)\n",
      "Requirement already satisfied: pygments<3.0.0,>=2.13.0 in c:\\users\\user\\appdata\\local\\programs\\python\\python310\\lib\\site-packages (from rich>=12->dvc) (2.13.0)\n",
      "Collecting ruamel.yaml.clib>=0.2.7 (from ruamel.yaml>=0.17.11->dvc)\n",
      "  Downloading ruamel.yaml.clib-0.2.8-cp310-cp310-win_amd64.whl.metadata (2.3 kB)\n",
      "Requirement already satisfied: gitpython>3 in c:\\users\\user\\appdata\\local\\programs\\python\\python310\\lib\\site-packages (from scmrepo<4,>=3->dvc) (3.1.37)\n",
      "Collecting pygit2>=1.14.0 (from scmrepo<4,>=3->dvc)\n",
      "  Downloading pygit2-1.14.1-cp310-cp310-win_amd64.whl.metadata (3.4 kB)\n",
      "Collecting asyncssh<3,>=2.13.1 (from scmrepo<4,>=3->dvc)\n",
      "  Downloading asyncssh-2.14.2-py3-none-any.whl.metadata (9.9 kB)\n",
      "Requirement already satisfied: setuptools in c:\\users\\user\\appdata\\local\\programs\\python\\python310\\lib\\site-packages (from zc.lockfile>=1.2.1->dvc) (68.2.2)\n",
      "Collecting aiohttp (from aiohttp-retry>=2.5.0->dvc-http>=2.29.0->dvc)\n",
      "  Downloading aiohttp-3.9.3-cp310-cp310-win_amd64.whl.metadata (7.6 kB)\n",
      "Requirement already satisfied: cryptography>=39.0 in c:\\users\\user\\appdata\\local\\programs\\python\\python310\\lib\\site-packages (from asyncssh<3,>=2.13.1->scmrepo<4,>=3->dvc) (41.0.4)\n",
      "Requirement already satisfied: typing-extensions>=3.6 in c:\\users\\user\\appdata\\local\\programs\\python\\python310\\lib\\site-packages (from asyncssh<3,>=2.13.1->scmrepo<4,>=3->dvc) (4.5.0)\n",
      "Collecting billiard<5.0,>=4.2.0 (from celery<6,>=5.3.0->dvc-task<1,>=0.3.0->dvc)\n",
      "  Downloading billiard-4.2.0-py3-none-any.whl.metadata (4.4 kB)\n",
      "Collecting click-didyoumean>=0.3.0 (from celery<6,>=5.3.0->dvc-task<1,>=0.3.0->dvc)\n",
      "  Downloading click_didyoumean-0.3.0-py3-none-any.whl (2.7 kB)\n",
      "Collecting click-plugins>=1.1.1 (from celery<6,>=5.3.0->dvc-task<1,>=0.3.0->dvc)\n",
      "  Downloading click_plugins-1.1.1-py2.py3-none-any.whl (7.5 kB)\n",
      "Collecting click-repl>=0.2.0 (from celery<6,>=5.3.0->dvc-task<1,>=0.3.0->dvc)\n",
      "  Downloading click_repl-0.3.0-py3-none-any.whl.metadata (3.6 kB)\n",
      "Requirement already satisfied: click<9.0,>=8.1.2 in c:\\users\\user\\appdata\\local\\programs\\python\\python310\\lib\\site-packages (from celery<6,>=5.3.0->dvc-task<1,>=0.3.0->dvc) (8.1.7)\n",
      "Requirement already satisfied: python-dateutil>=2.8.2 in c:\\users\\user\\appdata\\local\\programs\\python\\python310\\lib\\site-packages (from celery<6,>=5.3.0->dvc-task<1,>=0.3.0->dvc) (2.8.2)\n",
      "Requirement already satisfied: tzdata>=2022.7 in c:\\users\\user\\appdata\\local\\programs\\python\\python310\\lib\\site-packages (from celery<6,>=5.3.0->dvc-task<1,>=0.3.0->dvc) (2023.3)\n",
      "Collecting vine<6.0,>=5.1.0 (from celery<6,>=5.3.0->dvc-task<1,>=0.3.0->dvc)\n",
      "  Downloading vine-5.1.0-py3-none-any.whl.metadata (2.7 kB)\n",
      "Requirement already satisfied: gitdb<5,>=4.0.1 in c:\\users\\user\\appdata\\local\\programs\\python\\python310\\lib\\site-packages (from gitpython>3->scmrepo<4,>=3->dvc) (4.0.10)\n",
      "Collecting amqp<6.0.0,>=5.1.1 (from kombu<6,>=5.3.0->dvc-task<1,>=0.3.0->dvc)\n",
      "  Downloading amqp-5.2.0-py3-none-any.whl.metadata (8.9 kB)\n",
      "Collecting mdurl~=0.1 (from markdown-it-py>=2.2.0->rich>=12->dvc)\n",
      "  Downloading mdurl-0.1.2-py3-none-any.whl (10.0 kB)\n",
      "Requirement already satisfied: PyYAML>=5.1.0 in c:\\users\\user\\appdata\\roaming\\python\\python310\\site-packages (from omegaconf<2.4,>=2.2->hydra-core>=1.1->dvc) (6.0)\n",
      "Collecting cffi>=1.16.0 (from pygit2>=1.14.0->scmrepo<4,>=3->dvc)\n",
      "  Downloading cffi-1.16.0-cp310-cp310-win_amd64.whl.metadata (1.5 kB)\n",
      "Requirement already satisfied: orjson in c:\\users\\user\\appdata\\local\\programs\\python\\python310\\lib\\site-packages (from sqltrie<1,>=0.11.0->dvc-data<3.14,>=3.13->dvc) (3.9.7)\n",
      "Requirement already satisfied: aiosignal>=1.1.2 in c:\\users\\user\\appdata\\local\\programs\\python\\python310\\lib\\site-packages (from aiohttp->aiohttp-retry>=2.5.0->dvc-http>=2.29.0->dvc) (1.3.1)\n",
      "Requirement already satisfied: frozenlist>=1.1.1 in c:\\users\\user\\appdata\\local\\programs\\python\\python310\\lib\\site-packages (from aiohttp->aiohttp-retry>=2.5.0->dvc-http>=2.29.0->dvc) (1.4.0)\n",
      "Collecting multidict<7.0,>=4.5 (from aiohttp->aiohttp-retry>=2.5.0->dvc-http>=2.29.0->dvc)\n",
      "  Downloading multidict-6.0.5-cp310-cp310-win_amd64.whl.metadata (4.3 kB)\n",
      "Collecting yarl<2.0,>=1.0 (from aiohttp->aiohttp-retry>=2.5.0->dvc-http>=2.29.0->dvc)\n",
      "  Downloading yarl-1.9.4-cp310-cp310-win_amd64.whl.metadata (32 kB)\n",
      "Collecting async-timeout<5.0,>=4.0 (from aiohttp->aiohttp-retry>=2.5.0->dvc-http>=2.29.0->dvc)\n",
      "  Downloading async_timeout-4.0.3-py3-none-any.whl.metadata (4.2 kB)\n",
      "Requirement already satisfied: pycparser in c:\\users\\user\\appdata\\roaming\\python\\python310\\site-packages (from cffi>=1.16.0->pygit2>=1.14.0->scmrepo<4,>=3->dvc) (2.21)\n",
      "Collecting prompt-toolkit>=3.0.36 (from click-repl>=0.2.0->celery<6,>=5.3.0->dvc-task<1,>=0.3.0->dvc)\n",
      "  Downloading prompt_toolkit-3.0.43-py3-none-any.whl.metadata (6.5 kB)\n",
      "Requirement already satisfied: smmap<6,>=3.0.1 in c:\\users\\user\\appdata\\local\\programs\\python\\python310\\lib\\site-packages (from gitdb<5,>=4.0.1->gitpython>3->scmrepo<4,>=3->dvc) (5.0.1)\n",
      "Requirement already satisfied: wcwidth in c:\\users\\user\\appdata\\local\\programs\\python\\python310\\lib\\site-packages (from prompt-toolkit>=3.0.36->click-repl>=0.2.0->celery<6,>=5.3.0->dvc-task<1,>=0.3.0->dvc) (0.2.5)\n",
      "Downloading dvc-3.45.0-py3-none-any.whl (442 kB)\n",
      "   ---------------------------------------- 442.5/442.5 kB 2.0 MB/s eta 0:00:00\n",
      "Downloading configobj-5.0.8-py2.py3-none-any.whl (36 kB)\n",
      "Downloading distro-1.9.0-py3-none-any.whl (20 kB)\n",
      "Downloading dpath-2.1.6-py3-none-any.whl (17 kB)\n",
      "Downloading dvc_data-3.13.0-py3-none-any.whl (71 kB)\n",
      "   ---------------------------------------- 71.6/71.6 kB 358.9 kB/s eta 0:00:00\n",
      "Downloading dvc_http-2.32.0-py3-none-any.whl (12 kB)\n",
      "Downloading dvc_render-1.0.1-py3-none-any.whl (22 kB)\n",
      "Downloading dvc_studio_client-0.20.0-py3-none-any.whl (16 kB)\n",
      "Downloading dvc_task-0.3.0-py3-none-any.whl (21 kB)\n",
      "Downloading funcy-2.0-py2.py3-none-any.whl (30 kB)\n",
      "Downloading grandalf-0.8-py3-none-any.whl (41 kB)\n",
      "   ---------------------------------------- 41.8/41.8 kB 2.1 MB/s eta 0:00:00\n",
      "Downloading gto-1.7.0-py3-none-any.whl (46 kB)\n",
      "   ---------------------------------------- 46.6/46.6 kB 2.3 MB/s eta 0:00:00\n",
      "Downloading hydra_core-1.3.2-py3-none-any.whl (154 kB)\n",
      "   ---------------------------------------- 154.5/154.5 kB 3.1 MB/s eta 0:00:00\n",
      "Downloading iterative_telemetry-0.0.8-py3-none-any.whl (10 kB)\n",
      "Downloading pathspec-0.12.1-py3-none-any.whl (31 kB)\n",
      "Downloading platformdirs-3.11.0-py3-none-any.whl (17 kB)\n",
      "Downloading pydot-2.0.0-py3-none-any.whl (22 kB)\n",
      "Downloading rich-13.7.0-py3-none-any.whl (240 kB)\n",
      "   ---------------------------------------- 240.6/240.6 kB 7.4 MB/s eta 0:00:00\n",
      "Downloading ruamel.yaml-0.18.6-py3-none-any.whl (117 kB)\n",
      "   ---------------------------------------- 117.8/117.8 kB 3.5 MB/s eta 0:00:00\n",
      "Downloading scmrepo-3.1.0-py3-none-any.whl (71 kB)\n",
      "   ---------------------------------------- 71.7/71.7 kB 4.1 MB/s eta 0:00:00\n",
      "Downloading shtab-1.6.5-py3-none-any.whl (13 kB)\n",
      "Downloading tomlkit-0.12.3-py3-none-any.whl (37 kB)\n",
      "Downloading voluptuous-0.14.2-py3-none-any.whl (31 kB)\n",
      "Downloading zc.lockfile-3.0.post1-py3-none-any.whl (9.8 kB)\n",
      "Downloading asyncssh-2.14.2-py3-none-any.whl (352 kB)\n",
      "   ---------------------------------------- 352.5/352.5 kB 5.4 MB/s eta 0:00:00\n",
      "Downloading atpublic-4.0-py3-none-any.whl (4.9 kB)\n",
      "Downloading celery-5.3.6-py3-none-any.whl (422 kB)\n",
      "   ---------------------------------------- 422.0/422.0 kB 6.5 MB/s eta 0:00:00\n",
      "Downloading diskcache-5.6.3-py3-none-any.whl (45 kB)\n",
      "   ---------------------------------------- 45.5/45.5 kB 2.4 MB/s eta 0:00:00\n",
      "Downloading dulwich-0.21.7-cp310-cp310-win_amd64.whl (487 kB)\n",
      "   ---------------------------------------- 487.5/487.5 kB 6.1 MB/s eta 0:00:00\n",
      "Downloading dvc_objects-5.0.0-py3-none-any.whl (33 kB)\n",
      "Downloading fsspec-2024.2.0-py3-none-any.whl (170 kB)\n",
      "   --------------------------------------- 170.9/170.9 kB 10.0 MB/s eta 0:00:00\n",
      "Downloading kombu-5.3.5-py3-none-any.whl (200 kB)\n",
      "   --------------------------------------- 200.0/200.0 kB 11.9 MB/s eta 0:00:00\n",
      "Downloading markdown_it_py-3.0.0-py3-none-any.whl (87 kB)\n",
      "   ---------------------------------------- 87.5/87.5 kB 4.8 MB/s eta 0:00:00\n",
      "Downloading omegaconf-2.3.0-py3-none-any.whl (79 kB)\n",
      "   ---------------------------------------- 79.5/79.5 kB 2.2 MB/s eta 0:00:00\n",
      "Downloading pygit2-1.14.1-cp310-cp310-win_amd64.whl (1.2 MB)\n",
      "   ---------------------------------------- 1.2/1.2 MB 4.0 MB/s eta 0:00:00\n",
      "Downloading ruamel.yaml.clib-0.2.8-cp310-cp310-win_amd64.whl (117 kB)\n",
      "   ---------------------------------------- 117.8/117.8 kB 3.4 MB/s eta 0:00:00\n",
      "Downloading semver-3.0.2-py3-none-any.whl (17 kB)\n",
      "Downloading sqltrie-0.11.0-py3-none-any.whl (17 kB)\n",
      "Downloading typer-0.9.0-py3-none-any.whl (45 kB)\n",
      "   ---------------------------------------- 45.9/45.9 kB 1.1 MB/s eta 0:00:00\n",
      "Downloading aiohttp-3.9.3-cp310-cp310-win_amd64.whl (365 kB)\n",
      "   ---------------------------------------- 365.2/365.2 kB 3.8 MB/s eta 0:00:00\n",
      "Downloading amqp-5.2.0-py3-none-any.whl (50 kB)\n",
      "   ---------------------------------------- 50.9/50.9 kB 2.7 MB/s eta 0:00:00\n",
      "Downloading billiard-4.2.0-py3-none-any.whl (86 kB)\n",
      "   ---------------------------------------- 86.7/86.7 kB 2.5 MB/s eta 0:00:00\n",
      "Downloading cffi-1.16.0-cp310-cp310-win_amd64.whl (181 kB)\n",
      "   ---------------------------------------- 181.6/181.6 kB 2.8 MB/s eta 0:00:00\n",
      "Downloading click_repl-0.3.0-py3-none-any.whl (10 kB)\n",
      "Downloading vine-5.1.0-py3-none-any.whl (9.6 kB)\n",
      "Downloading async_timeout-4.0.3-py3-none-any.whl (5.7 kB)\n",
      "Downloading multidict-6.0.5-cp310-cp310-win_amd64.whl (28 kB)\n",
      "Downloading prompt_toolkit-3.0.43-py3-none-any.whl (386 kB)\n",
      "   ---------------------------------------- 386.1/386.1 kB 4.0 MB/s eta 0:00:00\n",
      "Downloading yarl-1.9.4-cp310-cp310-win_amd64.whl (76 kB)\n",
      "   ---------------------------------------- 76.4/76.4 kB 4.1 MB/s eta 0:00:00\n",
      "Building wheels for collected packages: antlr4-python3-runtime\n",
      "  Building wheel for antlr4-python3-runtime (setup.py): started\n",
      "  Building wheel for antlr4-python3-runtime (setup.py): finished with status 'done'\n",
      "  Created wheel for antlr4-python3-runtime: filename=antlr4_python3_runtime-4.9.3-py3-none-any.whl size=144578 sha256=18e05207160295e1da2d16172bcafbadbd98146c90d7bdc4113b08562f9ed141\n",
      "  Stored in directory: c:\\users\\user\\appdata\\local\\pip\\cache\\wheels\\12\\93\\dd\\1f6a127edc45659556564c5730f6d4e300888f4bca2d4c5a88\n",
      "Successfully built antlr4-python3-runtime\n",
      "Installing collected packages: pygtrie, funcy, dictdiffer, antlr4-python3-runtime, zc.lockfile, voluptuous, vine, tomlkit, sqltrie, shtab, shortuuid, semver, ruamel.yaml.clib, pydot, prompt-toolkit, platformdirs, pathspec, omegaconf, multidict, mdurl, grandalf, fsspec, flatten-dict, dvc-render, dulwich, dpath, distro, diskcache, configobj, cffi, billiard, atpublic, async-timeout, yarl, typer, ruamel.yaml, pygit2, markdown-it-py, iterative-telemetry, hydra-core, flufl.lock, dvc-studio-client, dvc-objects, click-repl, click-plugins, click-didyoumean, amqp, rich, kombu, dvc-data, asyncssh, aiohttp, celery, aiohttp-retry, scmrepo, dvc-task, dvc-http, gto, dvc\n",
      "  Attempting uninstall: antlr4-python3-runtime\n",
      "    Found existing installation: antlr4-python3-runtime 4.11.1\n",
      "    Uninstalling antlr4-python3-runtime-4.11.1:\n",
      "      Successfully uninstalled antlr4-python3-runtime-4.11.1\n",
      "  Attempting uninstall: prompt-toolkit\n",
      "    Found existing installation: prompt-toolkit 3.0.30\n",
      "    Uninstalling prompt-toolkit-3.0.30:\n",
      "      Successfully uninstalled prompt-toolkit-3.0.30\n",
      "  Attempting uninstall: platformdirs\n",
      "    Found existing installation: platformdirs 3.0.0\n",
      "    Uninstalling platformdirs-3.0.0:\n",
      "      Successfully uninstalled platformdirs-3.0.0\n",
      "  Attempting uninstall: fsspec\n",
      "    Found existing installation: fsspec 2023.9.2\n",
      "    Uninstalling fsspec-2023.9.2:\n",
      "      Successfully uninstalled fsspec-2023.9.2\n",
      "  Attempting uninstall: cffi\n",
      "    Found existing installation: cffi 1.15.1\n",
      "    Uninstalling cffi-1.15.1:\n",
      "      Successfully uninstalled cffi-1.15.1\n",
      "Successfully installed aiohttp-3.9.3 aiohttp-retry-2.8.3 amqp-5.2.0 antlr4-python3-runtime-4.9.3 async-timeout-4.0.3 asyncssh-2.14.2 atpublic-4.0 billiard-4.2.0 celery-5.3.6 cffi-1.16.0 click-didyoumean-0.3.0 click-plugins-1.1.1 click-repl-0.3.0 configobj-5.0.8 dictdiffer-0.9.0 diskcache-5.6.3 distro-1.9.0 dpath-2.1.6 dulwich-0.21.7 dvc-3.45.0 dvc-data-3.13.0 dvc-http-2.32.0 dvc-objects-5.0.0 dvc-render-1.0.1 dvc-studio-client-0.20.0 dvc-task-0.3.0 flatten-dict-0.4.2 flufl.lock-7.1.1 fsspec-2024.2.0 funcy-2.0 grandalf-0.8 gto-1.7.0 hydra-core-1.3.2 iterative-telemetry-0.0.8 kombu-5.3.5 markdown-it-py-3.0.0 mdurl-0.1.2 multidict-6.0.5 omegaconf-2.3.0 pathspec-0.12.1 platformdirs-3.11.0 prompt-toolkit-3.0.43 pydot-2.0.0 pygit2-1.14.1 pygtrie-2.5.0 rich-13.7.0 ruamel.yaml-0.18.6 ruamel.yaml.clib-0.2.8 scmrepo-3.1.0 semver-3.0.2 shortuuid-1.0.11 shtab-1.6.5 sqltrie-0.11.0 tomlkit-0.12.3 typer-0.9.0 vine-5.1.0 voluptuous-0.14.2 yarl-1.9.4 zc.lockfile-3.0.post1\n"
     ]
    },
    {
     "name": "stderr",
     "output_type": "stream",
     "text": [
      "ERROR: pip's dependency resolver does not currently take into account all the packages that are installed. This behaviour is the source of the following dependency conflicts.\n",
      "fugue-sql-antlr 0.1.7 requires antlr4-python3-runtime<4.12,>=4.11.1, but you have antlr4-python3-runtime 4.9.3 which is incompatible.\n",
      "pycaret 3.1.0 requires pandas<2.0.0,>=1.3.0, but you have pandas 2.1.4 which is incompatible.\n",
      "qpd 0.4.4 requires antlr4-python3-runtime<4.12,>=4.11.1, but you have antlr4-python3-runtime 4.9.3 which is incompatible.\n",
      "\n",
      "[notice] A new release of pip is available: 23.3.2 -> 24.0\n",
      "[notice] To update, run: python.exe -m pip install --upgrade pip\n"
     ]
    }
   ],
   "source": [
    "pip install dvc"
   ]
  },
  {
   "cell_type": "code",
   "execution_count": 14,
   "metadata": {},
   "outputs": [
    {
     "name": "stdout",
     "output_type": "stream",
     "text": [
      "Requirement already satisfied: pip in c:\\users\\user\\appdata\\local\\programs\\python\\python310\\lib\\site-packages (23.3.2)\n",
      "Collecting pip\n",
      "  Downloading pip-24.0-py3-none-any.whl.metadata (3.6 kB)\n",
      "Downloading pip-24.0-py3-none-any.whl (2.1 MB)\n",
      "   ---------------------------------------- 2.1/2.1 MB 3.4 MB/s eta 0:00:00\n",
      "Installing collected packages: pip\n",
      "  Attempting uninstall: pip\n",
      "    Found existing installation: pip 23.3.2\n",
      "    Uninstalling pip-23.3.2:\n",
      "      Successfully uninstalled pip-23.3.2\n",
      "Successfully installed pip-24.0\n",
      "Note: you may need to restart the kernel to use updated packages.\n"
     ]
    }
   ],
   "source": [
    "pip install --upgrade pip"
   ]
  },
  {
   "cell_type": "code",
   "execution_count": 11,
   "metadata": {},
   "outputs": [
    {
     "name": "stdout",
     "output_type": "stream",
     "text": [
      "d:\\Applied ML\n"
     ]
    }
   ],
   "source": [
    "%cd .."
   ]
  },
  {
   "cell_type": "code",
   "execution_count": 17,
   "metadata": {},
   "outputs": [
    {
     "name": "stdout",
     "output_type": "stream",
     "text": [
      "Initialized DVC repository.\n",
      "\n",
      "You can now commit the changes to git.\n",
      "\n",
      "+---------------------------------------------------------------------+\n",
      "|                                                                     |\n",
      "|        DVC has enabled anonymous aggregate usage analytics.         |\n",
      "|     Read the analytics documentation (and how to opt-out) here:     |\n",
      "|             <https://dvc.org/doc/user-guide/analytics>              |\n",
      "|                                                                     |\n",
      "+---------------------------------------------------------------------+\n",
      "\n",
      "What's next?\n",
      "------------\n",
      "- Check out the documentation: <https://dvc.org/doc>\n",
      "- Get help and share ideas: <https://dvc.org/chat>\n",
      "- Star us on GitHub: <https://github.com/iterative/dvc>\n"
     ]
    }
   ],
   "source": [
    "! dvc init --subdir"
   ]
  },
  {
   "cell_type": "code",
   "execution_count": 18,
   "metadata": {},
   "outputs": [
    {
     "name": "stdout",
     "output_type": "stream",
     "text": [
      "Setting 'storage' as a default remote.\n"
     ]
    }
   ],
   "source": [
    "!dvc remote add -d storage gdrive://1yWXpSVwY-_xQ0UaY0LHctJXtZUe_CWsg"
   ]
  },
  {
   "cell_type": "code",
   "execution_count": 23,
   "metadata": {},
   "outputs": [
    {
     "name": "stdout",
     "output_type": "stream",
     "text": [
      "d:\\Applied ML\n"
     ]
    }
   ],
   "source": [
    "%cd Applied ML\""
   ]
  },
  {
   "cell_type": "code",
   "execution_count": 24,
   "metadata": {},
   "outputs": [],
   "source": [
    "!git add .dvc/config"
   ]
  },
  {
   "cell_type": "code",
   "execution_count": 25,
   "metadata": {},
   "outputs": [
    {
     "name": "stdout",
     "output_type": "stream",
     "text": [
      "[master 7ccba05] Configure Google Drive as DVC remote storage\n",
      " 3 files changed, 10 insertions(+)\n",
      " create mode 100644 .dvc/.gitignore\n",
      " create mode 100644 .dvc/config\n",
      " create mode 100644 .dvcignore\n"
     ]
    }
   ],
   "source": [
    "!git commit -m \"Configure Google Drive as DVC remote storage\""
   ]
  },
  {
   "cell_type": "code",
   "execution_count": 26,
   "metadata": {},
   "outputs": [],
   "source": [
    "import numpy as np\n",
    "import pandas as pd\n",
    "import matplotlib.pyplot as plt\n",
    "import seaborn as sns\n",
    "import string\n",
    "import re\n",
    "import pickle\n",
    "from tqdm import tqdm\n",
    "import nltk\n",
    "import warnings\n",
    "from nltk.corpus import stopwords\n",
    "from nltk.stem import WordNetLemmatizer\n",
    "from sklearn.model_selection import train_test_split\n",
    "from nltk.tokenize import word_tokenize\n",
    "import os\n",
    "warnings.filterwarnings('ignore')"
   ]
  },
  {
   "cell_type": "code",
   "execution_count": 28,
   "metadata": {},
   "outputs": [],
   "source": [
    "raw_data = pd.read_csv('D:\\Applied ML\\Data\\emails.csv')"
   ]
  },
  {
   "cell_type": "code",
   "execution_count": 30,
   "metadata": {},
   "outputs": [],
   "source": [
    "raw_data.to_csv('D:\\Applied ML\\Data/raw_data.csv', index=False)"
   ]
  },
  {
   "cell_type": "code",
   "execution_count": 31,
   "metadata": {},
   "outputs": [],
   "source": [
    "def preprocess(df):\n",
    "    # Lowercasing\n",
    "    df['text'] = df['text'].apply(lambda x: x.lower())\n",
    "    # Removing HTML tags\n",
    "    df['text'] = df['text'].apply(lambda x: re.sub(r'<.*?>', '', x))\n",
    "    # Removing URLs\n",
    "    df['text'] = df['text'].apply(lambda x: re.sub(r'http[s]?://\\S+', '', x))\n",
    "    # Removing email addresses\n",
    "    df['text'] = df['text'].apply(lambda x: re.sub(r'\\S*@\\S*\\s?', '', x))\n",
    "    # Removing punctuation and special characters\n",
    "    df['text'] = df['text'].apply(lambda x: re.sub(r'[^a-z0-9\\s]', '', x))\n",
    "    # Tokenization\n",
    "    df['text'] = df['text'].apply(lambda x: word_tokenize(x))\n",
    "    # Removing stopwords\n",
    "    stop_words = set(stopwords.words('english'))\n",
    "    df['text'] = df['text'].apply(lambda x: [word for word in x if word not in stop_words])\n",
    "    # Lemmatization\n",
    "    lemmatizer = WordNetLemmatizer()\n",
    "    df['text'] = df['text'].apply(lambda x: [lemmatizer.lemmatize(word) for word in x])\n",
    "    # Joining tokens back to string\n",
    "    df['text'] = df['text'].apply(lambda x: ' '.join(x))\n",
    "    return df"
   ]
  },
  {
   "cell_type": "code",
   "execution_count": 32,
   "metadata": {},
   "outputs": [],
   "source": [
    "preprocessed_raw_data = preprocess(raw_data)"
   ]
  },
  {
   "cell_type": "code",
   "execution_count": 37,
   "metadata": {},
   "outputs": [],
   "source": [
    "train, test = train_test_split(preprocessed_raw_data, test_size=0.15, random_state=41)\n",
    "train, val = train_test_split(train, test_size=0.2, random_state=42)"
   ]
  },
  {
   "cell_type": "code",
   "execution_count": 38,
   "metadata": {},
   "outputs": [
    {
     "data": {
      "text/html": [
       "<div>\n",
       "<style scoped>\n",
       "    .dataframe tbody tr th:only-of-type {\n",
       "        vertical-align: middle;\n",
       "    }\n",
       "\n",
       "    .dataframe tbody tr th {\n",
       "        vertical-align: top;\n",
       "    }\n",
       "\n",
       "    .dataframe thead th {\n",
       "        text-align: right;\n",
       "    }\n",
       "</style>\n",
       "<table border=\"1\" class=\"dataframe\">\n",
       "  <thead>\n",
       "    <tr style=\"text-align: right;\">\n",
       "      <th></th>\n",
       "      <th>text</th>\n",
       "      <th>spam</th>\n",
       "    </tr>\n",
       "  </thead>\n",
       "  <tbody>\n",
       "    <tr>\n",
       "      <th>5286</th>\n",
       "      <td>subject grade pam term paper arrived internet ...</td>\n",
       "      <td>0</td>\n",
       "    </tr>\n",
       "    <tr>\n",
       "      <th>1499</th>\n",
       "      <td>subject thank vince j kaminski ect 03 27 2000 ...</td>\n",
       "      <td>0</td>\n",
       "    </tr>\n",
       "    <tr>\n",
       "      <th>5263</th>\n",
       "      <td>subject congrats vince beat congrats surprise ...</td>\n",
       "      <td>0</td>\n",
       "    </tr>\n",
       "    <tr>\n",
       "      <th>952</th>\n",
       "      <td>subject 70 great pornstars sex movles dowlnoad...</td>\n",
       "      <td>1</td>\n",
       "    </tr>\n",
       "    <tr>\n",
       "      <th>455</th>\n",
       "      <td>subject accepted money dear applicant review u...</td>\n",
       "      <td>1</td>\n",
       "    </tr>\n",
       "    <tr>\n",
       "      <th>...</th>\n",
       "      <td>...</td>\n",
       "      <td>...</td>\n",
       "    </tr>\n",
       "    <tr>\n",
       "      <th>2030</th>\n",
       "      <td>subject houston research opportunity hi vince ...</td>\n",
       "      <td>0</td>\n",
       "    </tr>\n",
       "    <tr>\n",
       "      <th>2111</th>\n",
       "      <td>subject bandwidth stinson let bring two idea m...</td>\n",
       "      <td>0</td>\n",
       "    </tr>\n",
       "    <tr>\n",
       "      <th>4222</th>\n",
       "      <td>subject confirmation order automatic confirmat...</td>\n",
       "      <td>0</td>\n",
       "    </tr>\n",
       "    <tr>\n",
       "      <th>3260</th>\n",
       "      <td>subject good morning afternoon vince one colle...</td>\n",
       "      <td>0</td>\n",
       "    </tr>\n",
       "    <tr>\n",
       "      <th>5614</th>\n",
       "      <td>subject option visualization vince stinson res...</td>\n",
       "      <td>0</td>\n",
       "    </tr>\n",
       "  </tbody>\n",
       "</table>\n",
       "<p>3894 rows × 2 columns</p>\n",
       "</div>"
      ],
      "text/plain": [
       "                                                   text  spam\n",
       "5286  subject grade pam term paper arrived internet ...     0\n",
       "1499  subject thank vince j kaminski ect 03 27 2000 ...     0\n",
       "5263  subject congrats vince beat congrats surprise ...     0\n",
       "952   subject 70 great pornstars sex movles dowlnoad...     1\n",
       "455   subject accepted money dear applicant review u...     1\n",
       "...                                                 ...   ...\n",
       "2030  subject houston research opportunity hi vince ...     0\n",
       "2111  subject bandwidth stinson let bring two idea m...     0\n",
       "4222  subject confirmation order automatic confirmat...     0\n",
       "3260  subject good morning afternoon vince one colle...     0\n",
       "5614  subject option visualization vince stinson res...     0\n",
       "\n",
       "[3894 rows x 2 columns]"
      ]
     },
     "execution_count": 38,
     "metadata": {},
     "output_type": "execute_result"
    }
   ],
   "source": [
    "train"
   ]
  },
  {
   "cell_type": "code",
   "execution_count": 39,
   "metadata": {},
   "outputs": [
    {
     "data": {
      "text/html": [
       "<div>\n",
       "<style scoped>\n",
       "    .dataframe tbody tr th:only-of-type {\n",
       "        vertical-align: middle;\n",
       "    }\n",
       "\n",
       "    .dataframe tbody tr th {\n",
       "        vertical-align: top;\n",
       "    }\n",
       "\n",
       "    .dataframe thead th {\n",
       "        text-align: right;\n",
       "    }\n",
       "</style>\n",
       "<table border=\"1\" class=\"dataframe\">\n",
       "  <thead>\n",
       "    <tr style=\"text-align: right;\">\n",
       "      <th></th>\n",
       "      <th>text</th>\n",
       "      <th>spam</th>\n",
       "    </tr>\n",
       "  </thead>\n",
       "  <tbody>\n",
       "    <tr>\n",
       "      <th>1559</th>\n",
       "      <td>subject summer internship jinbaek coordinate d...</td>\n",
       "      <td>0</td>\n",
       "    </tr>\n",
       "    <tr>\n",
       "      <th>5218</th>\n",
       "      <td>subject gwen koepke anne thanks contacting mat...</td>\n",
       "      <td>0</td>\n",
       "    </tr>\n",
       "    <tr>\n",
       "      <th>4150</th>\n",
       "      <td>subject transmission roundtable everyone sever...</td>\n",
       "      <td>0</td>\n",
       "    </tr>\n",
       "    <tr>\n",
       "      <th>609</th>\n",
       "      <td>subject natural viagra alternative following a...</td>\n",
       "      <td>1</td>\n",
       "    </tr>\n",
       "    <tr>\n",
       "      <th>2453</th>\n",
       "      <td>subject mba career opportunity dear vincent ka...</td>\n",
       "      <td>0</td>\n",
       "    </tr>\n",
       "    <tr>\n",
       "      <th>...</th>\n",
       "      <td>...</td>\n",
       "      <td>...</td>\n",
       "    </tr>\n",
       "    <tr>\n",
       "      <th>1294</th>\n",
       "      <td>subject new penis enlargement patch new penis ...</td>\n",
       "      <td>1</td>\n",
       "    </tr>\n",
       "    <tr>\n",
       "      <th>2618</th>\n",
       "      <td>subject dot odpowiedzi na list mam nadzieje ze...</td>\n",
       "      <td>0</td>\n",
       "    </tr>\n",
       "    <tr>\n",
       "      <th>5114</th>\n",
       "      <td>subject alp presentation eb 49 cl forwarded sh...</td>\n",
       "      <td>0</td>\n",
       "    </tr>\n",
       "    <tr>\n",
       "      <th>3071</th>\n",
       "      <td>subject today gathering hello vince planning s...</td>\n",
       "      <td>0</td>\n",
       "    </tr>\n",
       "    <tr>\n",
       "      <th>4974</th>\n",
       "      <td>subject template proposal mark todd vince work...</td>\n",
       "      <td>0</td>\n",
       "    </tr>\n",
       "  </tbody>\n",
       "</table>\n",
       "<p>860 rows × 2 columns</p>\n",
       "</div>"
      ],
      "text/plain": [
       "                                                   text  spam\n",
       "1559  subject summer internship jinbaek coordinate d...     0\n",
       "5218  subject gwen koepke anne thanks contacting mat...     0\n",
       "4150  subject transmission roundtable everyone sever...     0\n",
       "609   subject natural viagra alternative following a...     1\n",
       "2453  subject mba career opportunity dear vincent ka...     0\n",
       "...                                                 ...   ...\n",
       "1294  subject new penis enlargement patch new penis ...     1\n",
       "2618  subject dot odpowiedzi na list mam nadzieje ze...     0\n",
       "5114  subject alp presentation eb 49 cl forwarded sh...     0\n",
       "3071  subject today gathering hello vince planning s...     0\n",
       "4974  subject template proposal mark todd vince work...     0\n",
       "\n",
       "[860 rows x 2 columns]"
      ]
     },
     "execution_count": 39,
     "metadata": {},
     "output_type": "execute_result"
    }
   ],
   "source": [
    "test"
   ]
  },
  {
   "cell_type": "code",
   "execution_count": 40,
   "metadata": {},
   "outputs": [
    {
     "data": {
      "text/html": [
       "<div>\n",
       "<style scoped>\n",
       "    .dataframe tbody tr th:only-of-type {\n",
       "        vertical-align: middle;\n",
       "    }\n",
       "\n",
       "    .dataframe tbody tr th {\n",
       "        vertical-align: top;\n",
       "    }\n",
       "\n",
       "    .dataframe thead th {\n",
       "        text-align: right;\n",
       "    }\n",
       "</style>\n",
       "<table border=\"1\" class=\"dataframe\">\n",
       "  <thead>\n",
       "    <tr style=\"text-align: right;\">\n",
       "      <th></th>\n",
       "      <th>text</th>\n",
       "      <th>spam</th>\n",
       "    </tr>\n",
       "  </thead>\n",
       "  <tbody>\n",
       "    <tr>\n",
       "      <th>4264</th>\n",
       "      <td>subject fw gmm 30 mar 2001 jeff newsletter add...</td>\n",
       "      <td>0</td>\n",
       "    </tr>\n",
       "    <tr>\n",
       "      <th>3457</th>\n",
       "      <td>subject dg energy software vince edited versio...</td>\n",
       "      <td>0</td>\n",
       "    </tr>\n",
       "    <tr>\n",
       "      <th>3713</th>\n",
       "      <td>subject jcc kevin thanks head face time custom...</td>\n",
       "      <td>0</td>\n",
       "    </tr>\n",
       "    <tr>\n",
       "      <th>3887</th>\n",
       "      <td>subject interview enron research group reply m...</td>\n",
       "      <td>0</td>\n",
       "    </tr>\n",
       "    <tr>\n",
       "      <th>5362</th>\n",
       "      <td>subject registration material nfcf andres alma...</td>\n",
       "      <td>0</td>\n",
       "    </tr>\n",
       "    <tr>\n",
       "      <th>...</th>\n",
       "      <td>...</td>\n",
       "      <td>...</td>\n",
       "    </tr>\n",
       "    <tr>\n",
       "      <th>4167</th>\n",
       "      <td>subject christmas break fyi forwarded shirley ...</td>\n",
       "      <td>0</td>\n",
       "    </tr>\n",
       "    <tr>\n",
       "      <th>2145</th>\n",
       "      <td>subject career opportunity enron forwarded jen...</td>\n",
       "      <td>0</td>\n",
       "    </tr>\n",
       "    <tr>\n",
       "      <th>2694</th>\n",
       "      <td>subject mg metal london research responsibilit...</td>\n",
       "      <td>0</td>\n",
       "    </tr>\n",
       "    <tr>\n",
       "      <th>1145</th>\n",
       "      <td>subject pill pump patch experience powerful or...</td>\n",
       "      <td>1</td>\n",
       "    </tr>\n",
       "    <tr>\n",
       "      <th>5053</th>\n",
       "      <td>subject fw understanding applying financial ma...</td>\n",
       "      <td>0</td>\n",
       "    </tr>\n",
       "  </tbody>\n",
       "</table>\n",
       "<p>974 rows × 2 columns</p>\n",
       "</div>"
      ],
      "text/plain": [
       "                                                   text  spam\n",
       "4264  subject fw gmm 30 mar 2001 jeff newsletter add...     0\n",
       "3457  subject dg energy software vince edited versio...     0\n",
       "3713  subject jcc kevin thanks head face time custom...     0\n",
       "3887  subject interview enron research group reply m...     0\n",
       "5362  subject registration material nfcf andres alma...     0\n",
       "...                                                 ...   ...\n",
       "4167  subject christmas break fyi forwarded shirley ...     0\n",
       "2145  subject career opportunity enron forwarded jen...     0\n",
       "2694  subject mg metal london research responsibilit...     0\n",
       "1145  subject pill pump patch experience powerful or...     1\n",
       "5053  subject fw understanding applying financial ma...     0\n",
       "\n",
       "[974 rows x 2 columns]"
      ]
     },
     "execution_count": 40,
     "metadata": {},
     "output_type": "execute_result"
    }
   ],
   "source": [
    "val"
   ]
  },
  {
   "cell_type": "code",
   "execution_count": 42,
   "metadata": {},
   "outputs": [],
   "source": [
    "train.to_csv('ASS_2/Data/train.csv', index=False)\n",
    "val.to_csv('ASS_2/Data/validation.csv', index=False)\n",
    "test.to_csv('ASS_2/Data/test.csv', index=False)"
   ]
  },
  {
   "cell_type": "code",
   "execution_count": 44,
   "metadata": {},
   "outputs": [
    {
     "name": "stdout",
     "output_type": "stream",
     "text": [
      "D:\\Applied ML\\ASS_2\\Data\n"
     ]
    }
   ],
   "source": [
    "%cd D:\\Applied ML\\ASS_2\\Data"
   ]
  },
  {
   "cell_type": "code",
   "execution_count": 47,
   "metadata": {},
   "outputs": [
    {
     "name": "stdout",
     "output_type": "stream",
     "text": [
      "\n",
      "To track the changes with git, run:\n",
      "\n",
      "\tgit add train.csv.dvc raw_data.csv.dvc test.csv.dvc validation.csv.dvc\n",
      "\n",
      "To enable auto staging, run:\n",
      "\n",
      "\tdvc config core.autostage true\n"
     ]
    }
   ],
   "source": [
    "!dvc add raw_data.csv train.csv validation.csv test.csv"
   ]
  },
  {
   "cell_type": "code",
   "execution_count": 46,
   "metadata": {},
   "outputs": [],
   "source": [
    "!git add raw_data.csv.dvc train.csv.dvc validation.csv.dvc test.csv.dvc .gitignore"
   ]
  },
  {
   "cell_type": "code",
   "execution_count": 48,
   "metadata": {},
   "outputs": [
    {
     "name": "stdout",
     "output_type": "stream",
     "text": [
      "[master 1ff0db6] Track data with DVC\n",
      " 5 files changed, 24 insertions(+)\n",
      " create mode 100644 ASS_2/Data/.gitignore\n",
      " create mode 100644 ASS_2/Data/raw_data.csv.dvc\n",
      " create mode 100644 ASS_2/Data/test.csv.dvc\n",
      " create mode 100644 ASS_2/Data/train.csv.dvc\n",
      " create mode 100644 ASS_2/Data/validation.csv.dvc\n"
     ]
    }
   ],
   "source": [
    "!git commit -m \"Track data with DVC\""
   ]
  },
  {
   "cell_type": "code",
   "execution_count": 49,
   "metadata": {},
   "outputs": [],
   "source": [
    "!dvc config core.autostage true"
   ]
  },
  {
   "cell_type": "code",
   "execution_count": 51,
   "metadata": {},
   "outputs": [
    {
     "name": "stdout",
     "output_type": "stream",
     "text": [
      "Collecting dvc_gdrive\n",
      "  Downloading dvc_gdrive-3.0.1-py3-none-any.whl.metadata (2.1 kB)\n",
      "Requirement already satisfied: dvc in c:\\users\\user\\appdata\\local\\programs\\python\\python310\\lib\\site-packages (from dvc_gdrive) (3.45.0)\n",
      "Collecting pydrive2>=1.19.0 (from pydrive2[fsspec]>=1.19.0->dvc_gdrive)\n",
      "  Downloading PyDrive2-1.19.0-py3-none-any.whl.metadata (6.7 kB)\n",
      "Collecting google-api-python-client>=1.12.5 (from pydrive2>=1.19.0->pydrive2[fsspec]>=1.19.0->dvc_gdrive)\n",
      "  Downloading google_api_python_client-2.118.0-py2.py3-none-any.whl.metadata (6.6 kB)\n",
      "Collecting oauth2client>=4.0.0 (from pydrive2>=1.19.0->pydrive2[fsspec]>=1.19.0->dvc_gdrive)\n",
      "  Downloading oauth2client-4.1.3-py2.py3-none-any.whl (98 kB)\n",
      "     ---------------------------------------- 98.2/98.2 kB 2.8 MB/s eta 0:00:00\n",
      "Requirement already satisfied: PyYAML>=3.0 in c:\\users\\user\\appdata\\roaming\\python\\python310\\site-packages (from pydrive2>=1.19.0->pydrive2[fsspec]>=1.19.0->dvc_gdrive) (6.0)\n",
      "Requirement already satisfied: pyOpenSSL>=19.1.0 in c:\\users\\user\\appdata\\local\\programs\\python\\python310\\lib\\site-packages (from pydrive2>=1.19.0->pydrive2[fsspec]>=1.19.0->dvc_gdrive) (23.2.0)\n",
      "Requirement already satisfied: fsspec>=2021.07.0 in c:\\users\\user\\appdata\\local\\programs\\python\\python310\\lib\\site-packages (from pydrive2[fsspec]>=1.19.0->dvc_gdrive) (2024.2.0)\n",
      "Requirement already satisfied: tqdm>=4.0.0 in c:\\users\\user\\appdata\\local\\programs\\python\\python310\\lib\\site-packages (from pydrive2[fsspec]>=1.19.0->dvc_gdrive) (4.65.0)\n",
      "Requirement already satisfied: funcy>=1.14 in c:\\users\\user\\appdata\\local\\programs\\python\\python310\\lib\\site-packages (from pydrive2[fsspec]>=1.19.0->dvc_gdrive) (2.0)\n",
      "Requirement already satisfied: appdirs>=1.4.3 in c:\\users\\user\\appdata\\local\\programs\\python\\python310\\lib\\site-packages (from pydrive2[fsspec]>=1.19.0->dvc_gdrive) (1.4.4)\n",
      "Requirement already satisfied: colorama>=0.3.9 in c:\\users\\user\\appdata\\local\\programs\\python\\python310\\lib\\site-packages (from dvc->dvc_gdrive) (0.4.5)\n",
      "Requirement already satisfied: configobj>=5.0.6 in c:\\users\\user\\appdata\\local\\programs\\python\\python310\\lib\\site-packages (from dvc->dvc_gdrive) (5.0.8)\n",
      "Requirement already satisfied: distro>=1.3 in c:\\users\\user\\appdata\\local\\programs\\python\\python310\\lib\\site-packages (from dvc->dvc_gdrive) (1.9.0)\n",
      "Requirement already satisfied: dpath<3,>=2.1.0 in c:\\users\\user\\appdata\\local\\programs\\python\\python310\\lib\\site-packages (from dvc->dvc_gdrive) (2.1.6)\n",
      "Requirement already satisfied: dvc-data<3.14,>=3.13 in c:\\users\\user\\appdata\\local\\programs\\python\\python310\\lib\\site-packages (from dvc->dvc_gdrive) (3.13.0)\n",
      "Requirement already satisfied: dvc-http>=2.29.0 in c:\\users\\user\\appdata\\local\\programs\\python\\python310\\lib\\site-packages (from dvc->dvc_gdrive) (2.32.0)\n",
      "Requirement already satisfied: dvc-render<2,>=1.0.1 in c:\\users\\user\\appdata\\local\\programs\\python\\python310\\lib\\site-packages (from dvc->dvc_gdrive) (1.0.1)\n",
      "Requirement already satisfied: dvc-studio-client<1,>=0.19 in c:\\users\\user\\appdata\\local\\programs\\python\\python310\\lib\\site-packages (from dvc->dvc_gdrive) (0.20.0)\n",
      "Requirement already satisfied: dvc-task<1,>=0.3.0 in c:\\users\\user\\appdata\\local\\programs\\python\\python310\\lib\\site-packages (from dvc->dvc_gdrive) (0.3.0)\n",
      "Requirement already satisfied: flatten-dict<1,>=0.4.1 in c:\\users\\user\\appdata\\local\\programs\\python\\python310\\lib\\site-packages (from dvc->dvc_gdrive) (0.4.2)\n",
      "Requirement already satisfied: flufl.lock<8,>=5 in c:\\users\\user\\appdata\\local\\programs\\python\\python310\\lib\\site-packages (from dvc->dvc_gdrive) (7.1.1)\n",
      "Requirement already satisfied: grandalf<1,>=0.7 in c:\\users\\user\\appdata\\local\\programs\\python\\python310\\lib\\site-packages (from dvc->dvc_gdrive) (0.8)\n",
      "Requirement already satisfied: gto<2,>=1.6.0 in c:\\users\\user\\appdata\\local\\programs\\python\\python310\\lib\\site-packages (from dvc->dvc_gdrive) (1.7.0)\n",
      "Requirement already satisfied: hydra-core>=1.1 in c:\\users\\user\\appdata\\local\\programs\\python\\python310\\lib\\site-packages (from dvc->dvc_gdrive) (1.3.2)\n",
      "Requirement already satisfied: iterative-telemetry>=0.0.7 in c:\\users\\user\\appdata\\local\\programs\\python\\python310\\lib\\site-packages (from dvc->dvc_gdrive) (0.0.8)\n",
      "Requirement already satisfied: networkx>=2.5 in c:\\users\\user\\appdata\\local\\programs\\python\\python310\\lib\\site-packages (from dvc->dvc_gdrive) (3.1)\n",
      "Requirement already satisfied: packaging>=19 in c:\\users\\user\\appdata\\local\\programs\\python\\python310\\lib\\site-packages (from dvc->dvc_gdrive) (21.3)\n",
      "Requirement already satisfied: pathspec>=0.10.3 in c:\\users\\user\\appdata\\local\\programs\\python\\python310\\lib\\site-packages (from dvc->dvc_gdrive) (0.12.1)\n",
      "Requirement already satisfied: platformdirs<4,>=3.1.1 in c:\\users\\user\\appdata\\local\\programs\\python\\python310\\lib\\site-packages (from dvc->dvc_gdrive) (3.11.0)\n",
      "Requirement already satisfied: psutil>=5.8 in c:\\users\\user\\appdata\\local\\programs\\python\\python310\\lib\\site-packages (from dvc->dvc_gdrive) (5.9.1)\n",
      "Requirement already satisfied: pydot>=1.2.4 in c:\\users\\user\\appdata\\local\\programs\\python\\python310\\lib\\site-packages (from dvc->dvc_gdrive) (2.0.0)\n",
      "Requirement already satisfied: pygtrie>=2.3.2 in c:\\users\\user\\appdata\\local\\programs\\python\\python310\\lib\\site-packages (from dvc->dvc_gdrive) (2.5.0)\n",
      "Requirement already satisfied: pyparsing>=2.4.7 in c:\\users\\user\\appdata\\local\\programs\\python\\python310\\lib\\site-packages (from dvc->dvc_gdrive) (3.0.9)\n",
      "Requirement already satisfied: requests>=2.22 in c:\\users\\user\\appdata\\local\\programs\\python\\python310\\lib\\site-packages (from dvc->dvc_gdrive) (2.28.2)\n",
      "Requirement already satisfied: rich>=12 in c:\\users\\user\\appdata\\local\\programs\\python\\python310\\lib\\site-packages (from dvc->dvc_gdrive) (13.7.0)\n",
      "Requirement already satisfied: ruamel.yaml>=0.17.11 in c:\\users\\user\\appdata\\local\\programs\\python\\python310\\lib\\site-packages (from dvc->dvc_gdrive) (0.18.6)\n",
      "Requirement already satisfied: scmrepo<4,>=3 in c:\\users\\user\\appdata\\local\\programs\\python\\python310\\lib\\site-packages (from dvc->dvc_gdrive) (3.1.0)\n",
      "Requirement already satisfied: shortuuid>=0.5 in c:\\users\\user\\appdata\\local\\programs\\python\\python310\\lib\\site-packages (from dvc->dvc_gdrive) (1.0.11)\n",
      "Requirement already satisfied: shtab<2,>=1.3.4 in c:\\users\\user\\appdata\\local\\programs\\python\\python310\\lib\\site-packages (from dvc->dvc_gdrive) (1.6.5)\n",
      "Requirement already satisfied: tabulate>=0.8.7 in c:\\users\\user\\appdata\\local\\programs\\python\\python310\\lib\\site-packages (from dvc->dvc_gdrive) (0.9.0)\n",
      "Requirement already satisfied: tomlkit>=0.11.1 in c:\\users\\user\\appdata\\local\\programs\\python\\python310\\lib\\site-packages (from dvc->dvc_gdrive) (0.12.3)\n",
      "Requirement already satisfied: voluptuous>=0.11.7 in c:\\users\\user\\appdata\\local\\programs\\python\\python310\\lib\\site-packages (from dvc->dvc_gdrive) (0.14.2)\n",
      "Requirement already satisfied: zc.lockfile>=1.2.1 in c:\\users\\user\\appdata\\local\\programs\\python\\python310\\lib\\site-packages (from dvc->dvc_gdrive) (3.0.post1)\n",
      "Requirement already satisfied: six in c:\\users\\user\\appdata\\local\\programs\\python\\python310\\lib\\site-packages (from configobj>=5.0.6->dvc->dvc_gdrive) (1.16.0)\n",
      "Requirement already satisfied: dictdiffer>=0.8.1 in c:\\users\\user\\appdata\\local\\programs\\python\\python310\\lib\\site-packages (from dvc-data<3.14,>=3.13->dvc->dvc_gdrive) (0.9.0)\n",
      "Requirement already satisfied: dvc-objects<6,>=4.0.1 in c:\\users\\user\\appdata\\local\\programs\\python\\python310\\lib\\site-packages (from dvc-data<3.14,>=3.13->dvc->dvc_gdrive) (5.0.0)\n",
      "Requirement already satisfied: diskcache>=5.2.1 in c:\\users\\user\\appdata\\local\\programs\\python\\python310\\lib\\site-packages (from dvc-data<3.14,>=3.13->dvc->dvc_gdrive) (5.6.3)\n",
      "Requirement already satisfied: attrs>=21.3.0 in c:\\users\\user\\appdata\\roaming\\python\\python310\\site-packages (from dvc-data<3.14,>=3.13->dvc->dvc_gdrive) (22.2.0)\n",
      "Requirement already satisfied: sqltrie<1,>=0.11.0 in c:\\users\\user\\appdata\\local\\programs\\python\\python310\\lib\\site-packages (from dvc-data<3.14,>=3.13->dvc->dvc_gdrive) (0.11.0)\n",
      "Requirement already satisfied: aiohttp-retry>=2.5.0 in c:\\users\\user\\appdata\\local\\programs\\python\\python310\\lib\\site-packages (from dvc-http>=2.29.0->dvc->dvc_gdrive) (2.8.3)\n",
      "Requirement already satisfied: dulwich in c:\\users\\user\\appdata\\local\\programs\\python\\python310\\lib\\site-packages (from dvc-studio-client<1,>=0.19->dvc->dvc_gdrive) (0.21.7)\n",
      "Requirement already satisfied: celery<6,>=5.3.0 in c:\\users\\user\\appdata\\local\\programs\\python\\python310\\lib\\site-packages (from dvc-task<1,>=0.3.0->dvc->dvc_gdrive) (5.3.6)\n",
      "Requirement already satisfied: kombu<6,>=5.3.0 in c:\\users\\user\\appdata\\local\\programs\\python\\python310\\lib\\site-packages (from dvc-task<1,>=0.3.0->dvc->dvc_gdrive) (5.3.5)\n",
      "Requirement already satisfied: pywin32>=225 in c:\\users\\user\\appdata\\local\\programs\\python\\python310\\lib\\site-packages (from dvc-task<1,>=0.3.0->dvc->dvc_gdrive) (304)\n",
      "Requirement already satisfied: atpublic>=2.3 in c:\\users\\user\\appdata\\local\\programs\\python\\python310\\lib\\site-packages (from flufl.lock<8,>=5->dvc->dvc_gdrive) (4.0)\n",
      "Collecting httplib2<1.dev0,>=0.15.0 (from google-api-python-client>=1.12.5->pydrive2>=1.19.0->pydrive2[fsspec]>=1.19.0->dvc_gdrive)\n",
      "  Downloading httplib2-0.22.0-py3-none-any.whl.metadata (2.6 kB)\n",
      "Requirement already satisfied: google-auth<3.0.0.dev0,>=1.19.0 in c:\\users\\user\\appdata\\local\\programs\\python\\python310\\lib\\site-packages (from google-api-python-client>=1.12.5->pydrive2>=1.19.0->pydrive2[fsspec]>=1.19.0->dvc_gdrive) (2.17.3)\n",
      "Collecting google-auth-httplib2>=0.1.0 (from google-api-python-client>=1.12.5->pydrive2>=1.19.0->pydrive2[fsspec]>=1.19.0->dvc_gdrive)\n",
      "  Downloading google_auth_httplib2-0.2.0-py2.py3-none-any.whl.metadata (2.2 kB)\n",
      "Collecting google-api-core!=2.0.*,!=2.1.*,!=2.2.*,!=2.3.0,<3.0.0.dev0,>=1.31.5 (from google-api-python-client>=1.12.5->pydrive2>=1.19.0->pydrive2[fsspec]>=1.19.0->dvc_gdrive)\n",
      "  Downloading google_api_core-2.17.1-py3-none-any.whl.metadata (2.7 kB)\n",
      "Collecting uritemplate<5,>=3.0.1 (from google-api-python-client>=1.12.5->pydrive2>=1.19.0->pydrive2[fsspec]>=1.19.0->dvc_gdrive)\n",
      "  Downloading uritemplate-4.1.1-py2.py3-none-any.whl (10 kB)\n",
      "Requirement already satisfied: typer>=0.4.1 in c:\\users\\user\\appdata\\local\\programs\\python\\python310\\lib\\site-packages (from gto<2,>=1.6.0->dvc->dvc_gdrive) (0.9.0)\n",
      "Requirement already satisfied: pydantic!=2.0.0,<3,>=1.9.0 in c:\\users\\user\\appdata\\local\\programs\\python\\python310\\lib\\site-packages (from gto<2,>=1.6.0->dvc->dvc_gdrive) (1.10.13)\n",
      "Requirement already satisfied: semver>=3.0.0 in c:\\users\\user\\appdata\\local\\programs\\python\\python310\\lib\\site-packages (from gto<2,>=1.6.0->dvc->dvc_gdrive) (3.0.2)\n",
      "Requirement already satisfied: entrypoints in c:\\users\\user\\appdata\\local\\programs\\python\\python310\\lib\\site-packages (from gto<2,>=1.6.0->dvc->dvc_gdrive) (0.4)\n",
      "Requirement already satisfied: omegaconf<2.4,>=2.2 in c:\\users\\user\\appdata\\local\\programs\\python\\python310\\lib\\site-packages (from hydra-core>=1.1->dvc->dvc_gdrive) (2.3.0)\n",
      "Requirement already satisfied: antlr4-python3-runtime==4.9.* in c:\\users\\user\\appdata\\local\\programs\\python\\python310\\lib\\site-packages (from hydra-core>=1.1->dvc->dvc_gdrive) (4.9.3)\n",
      "Requirement already satisfied: filelock in c:\\users\\user\\appdata\\local\\programs\\python\\python310\\lib\\site-packages (from iterative-telemetry>=0.0.7->dvc->dvc_gdrive) (3.12.4)\n",
      "Requirement already satisfied: pyasn1>=0.1.7 in c:\\users\\user\\appdata\\local\\programs\\python\\python310\\lib\\site-packages (from oauth2client>=4.0.0->pydrive2>=1.19.0->pydrive2[fsspec]>=1.19.0->dvc_gdrive) (0.4.8)\n",
      "Requirement already satisfied: pyasn1-modules>=0.0.5 in c:\\users\\user\\appdata\\local\\programs\\python\\python310\\lib\\site-packages (from oauth2client>=4.0.0->pydrive2>=1.19.0->pydrive2[fsspec]>=1.19.0->dvc_gdrive) (0.2.8)\n",
      "Requirement already satisfied: rsa>=3.1.4 in c:\\users\\user\\appdata\\local\\programs\\python\\python310\\lib\\site-packages (from oauth2client>=4.0.0->pydrive2>=1.19.0->pydrive2[fsspec]>=1.19.0->dvc_gdrive) (4.9)\n",
      "Requirement already satisfied: cryptography!=40.0.0,!=40.0.1,<42,>=38.0.0 in c:\\users\\user\\appdata\\local\\programs\\python\\python310\\lib\\site-packages (from pyOpenSSL>=19.1.0->pydrive2>=1.19.0->pydrive2[fsspec]>=1.19.0->dvc_gdrive) (41.0.4)\n",
      "Requirement already satisfied: charset-normalizer<4,>=2 in c:\\users\\user\\appdata\\local\\programs\\python\\python310\\lib\\site-packages (from requests>=2.22->dvc->dvc_gdrive) (3.1.0)\n",
      "Requirement already satisfied: idna<4,>=2.5 in c:\\users\\user\\appdata\\roaming\\python\\python310\\site-packages (from requests>=2.22->dvc->dvc_gdrive) (3.4)\n",
      "Requirement already satisfied: urllib3<1.27,>=1.21.1 in c:\\users\\user\\appdata\\local\\programs\\python\\python310\\lib\\site-packages (from requests>=2.22->dvc->dvc_gdrive) (1.26.15)\n",
      "Requirement already satisfied: certifi>=2017.4.17 in c:\\users\\user\\appdata\\local\\programs\\python\\python310\\lib\\site-packages (from requests>=2.22->dvc->dvc_gdrive) (2022.12.7)\n",
      "Requirement already satisfied: markdown-it-py>=2.2.0 in c:\\users\\user\\appdata\\local\\programs\\python\\python310\\lib\\site-packages (from rich>=12->dvc->dvc_gdrive) (3.0.0)\n",
      "Requirement already satisfied: pygments<3.0.0,>=2.13.0 in c:\\users\\user\\appdata\\local\\programs\\python\\python310\\lib\\site-packages (from rich>=12->dvc->dvc_gdrive) (2.13.0)\n",
      "Requirement already satisfied: ruamel.yaml.clib>=0.2.7 in c:\\users\\user\\appdata\\local\\programs\\python\\python310\\lib\\site-packages (from ruamel.yaml>=0.17.11->dvc->dvc_gdrive) (0.2.8)\n",
      "Requirement already satisfied: gitpython>3 in c:\\users\\user\\appdata\\local\\programs\\python\\python310\\lib\\site-packages (from scmrepo<4,>=3->dvc->dvc_gdrive) (3.1.37)\n",
      "Requirement already satisfied: pygit2>=1.14.0 in c:\\users\\user\\appdata\\local\\programs\\python\\python310\\lib\\site-packages (from scmrepo<4,>=3->dvc->dvc_gdrive) (1.14.1)\n",
      "Requirement already satisfied: asyncssh<3,>=2.13.1 in c:\\users\\user\\appdata\\local\\programs\\python\\python310\\lib\\site-packages (from scmrepo<4,>=3->dvc->dvc_gdrive) (2.14.2)\n",
      "Requirement already satisfied: setuptools in c:\\users\\user\\appdata\\local\\programs\\python\\python310\\lib\\site-packages (from zc.lockfile>=1.2.1->dvc->dvc_gdrive) (68.2.2)\n",
      "Requirement already satisfied: aiohttp in c:\\users\\user\\appdata\\local\\programs\\python\\python310\\lib\\site-packages (from aiohttp-retry>=2.5.0->dvc-http>=2.29.0->dvc->dvc_gdrive) (3.9.3)\n",
      "Requirement already satisfied: typing-extensions>=3.6 in c:\\users\\user\\appdata\\local\\programs\\python\\python310\\lib\\site-packages (from asyncssh<3,>=2.13.1->scmrepo<4,>=3->dvc->dvc_gdrive) (4.5.0)\n",
      "Requirement already satisfied: billiard<5.0,>=4.2.0 in c:\\users\\user\\appdata\\local\\programs\\python\\python310\\lib\\site-packages (from celery<6,>=5.3.0->dvc-task<1,>=0.3.0->dvc->dvc_gdrive) (4.2.0)\n",
      "Requirement already satisfied: click-didyoumean>=0.3.0 in c:\\users\\user\\appdata\\local\\programs\\python\\python310\\lib\\site-packages (from celery<6,>=5.3.0->dvc-task<1,>=0.3.0->dvc->dvc_gdrive) (0.3.0)\n",
      "Requirement already satisfied: click-plugins>=1.1.1 in c:\\users\\user\\appdata\\local\\programs\\python\\python310\\lib\\site-packages (from celery<6,>=5.3.0->dvc-task<1,>=0.3.0->dvc->dvc_gdrive) (1.1.1)\n",
      "Requirement already satisfied: click-repl>=0.2.0 in c:\\users\\user\\appdata\\local\\programs\\python\\python310\\lib\\site-packages (from celery<6,>=5.3.0->dvc-task<1,>=0.3.0->dvc->dvc_gdrive) (0.3.0)\n",
      "Requirement already satisfied: click<9.0,>=8.1.2 in c:\\users\\user\\appdata\\local\\programs\\python\\python310\\lib\\site-packages (from celery<6,>=5.3.0->dvc-task<1,>=0.3.0->dvc->dvc_gdrive) (8.1.7)\n",
      "Requirement already satisfied: python-dateutil>=2.8.2 in c:\\users\\user\\appdata\\local\\programs\\python\\python310\\lib\\site-packages (from celery<6,>=5.3.0->dvc-task<1,>=0.3.0->dvc->dvc_gdrive) (2.8.2)\n",
      "Requirement already satisfied: tzdata>=2022.7 in c:\\users\\user\\appdata\\local\\programs\\python\\python310\\lib\\site-packages (from celery<6,>=5.3.0->dvc-task<1,>=0.3.0->dvc->dvc_gdrive) (2023.3)\n",
      "Requirement already satisfied: vine<6.0,>=5.1.0 in c:\\users\\user\\appdata\\local\\programs\\python\\python310\\lib\\site-packages (from celery<6,>=5.3.0->dvc-task<1,>=0.3.0->dvc->dvc_gdrive) (5.1.0)\n",
      "Requirement already satisfied: cffi>=1.12 in c:\\users\\user\\appdata\\local\\programs\\python\\python310\\lib\\site-packages (from cryptography!=40.0.0,!=40.0.1,<42,>=38.0.0->pyOpenSSL>=19.1.0->pydrive2>=1.19.0->pydrive2[fsspec]>=1.19.0->dvc_gdrive) (1.16.0)\n",
      "Requirement already satisfied: gitdb<5,>=4.0.1 in c:\\users\\user\\appdata\\local\\programs\\python\\python310\\lib\\site-packages (from gitpython>3->scmrepo<4,>=3->dvc->dvc_gdrive) (4.0.10)\n",
      "Collecting googleapis-common-protos<2.0.dev0,>=1.56.2 (from google-api-core!=2.0.*,!=2.1.*,!=2.2.*,!=2.3.0,<3.0.0.dev0,>=1.31.5->google-api-python-client>=1.12.5->pydrive2>=1.19.0->pydrive2[fsspec]>=1.19.0->dvc_gdrive)\n",
      "  Downloading googleapis_common_protos-1.62.0-py2.py3-none-any.whl.metadata (1.5 kB)\n",
      "Requirement already satisfied: protobuf!=3.20.0,!=3.20.1,!=4.21.0,!=4.21.1,!=4.21.2,!=4.21.3,!=4.21.4,!=4.21.5,<5.0.0.dev0,>=3.19.5 in c:\\users\\user\\appdata\\local\\programs\\python\\python310\\lib\\site-packages (from google-api-core!=2.0.*,!=2.1.*,!=2.2.*,!=2.3.0,<3.0.0.dev0,>=1.31.5->google-api-python-client>=1.12.5->pydrive2>=1.19.0->pydrive2[fsspec]>=1.19.0->dvc_gdrive) (4.22.3)\n",
      "Requirement already satisfied: cachetools<6.0,>=2.0.0 in c:\\users\\user\\appdata\\local\\programs\\python\\python310\\lib\\site-packages (from google-auth<3.0.0.dev0,>=1.19.0->google-api-python-client>=1.12.5->pydrive2>=1.19.0->pydrive2[fsspec]>=1.19.0->dvc_gdrive) (5.3.0)\n",
      "Requirement already satisfied: amqp<6.0.0,>=5.1.1 in c:\\users\\user\\appdata\\local\\programs\\python\\python310\\lib\\site-packages (from kombu<6,>=5.3.0->dvc-task<1,>=0.3.0->dvc->dvc_gdrive) (5.2.0)\n",
      "Requirement already satisfied: mdurl~=0.1 in c:\\users\\user\\appdata\\local\\programs\\python\\python310\\lib\\site-packages (from markdown-it-py>=2.2.0->rich>=12->dvc->dvc_gdrive) (0.1.2)\n",
      "Requirement already satisfied: orjson in c:\\users\\user\\appdata\\local\\programs\\python\\python310\\lib\\site-packages (from sqltrie<1,>=0.11.0->dvc-data<3.14,>=3.13->dvc->dvc_gdrive) (3.9.7)\n",
      "Requirement already satisfied: aiosignal>=1.1.2 in c:\\users\\user\\appdata\\local\\programs\\python\\python310\\lib\\site-packages (from aiohttp->aiohttp-retry>=2.5.0->dvc-http>=2.29.0->dvc->dvc_gdrive) (1.3.1)\n",
      "Requirement already satisfied: frozenlist>=1.1.1 in c:\\users\\user\\appdata\\local\\programs\\python\\python310\\lib\\site-packages (from aiohttp->aiohttp-retry>=2.5.0->dvc-http>=2.29.0->dvc->dvc_gdrive) (1.4.0)\n",
      "Requirement already satisfied: multidict<7.0,>=4.5 in c:\\users\\user\\appdata\\local\\programs\\python\\python310\\lib\\site-packages (from aiohttp->aiohttp-retry>=2.5.0->dvc-http>=2.29.0->dvc->dvc_gdrive) (6.0.5)\n",
      "Requirement already satisfied: yarl<2.0,>=1.0 in c:\\users\\user\\appdata\\local\\programs\\python\\python310\\lib\\site-packages (from aiohttp->aiohttp-retry>=2.5.0->dvc-http>=2.29.0->dvc->dvc_gdrive) (1.9.4)\n",
      "Requirement already satisfied: async-timeout<5.0,>=4.0 in c:\\users\\user\\appdata\\local\\programs\\python\\python310\\lib\\site-packages (from aiohttp->aiohttp-retry>=2.5.0->dvc-http>=2.29.0->dvc->dvc_gdrive) (4.0.3)\n",
      "Requirement already satisfied: pycparser in c:\\users\\user\\appdata\\roaming\\python\\python310\\site-packages (from cffi>=1.12->cryptography!=40.0.0,!=40.0.1,<42,>=38.0.0->pyOpenSSL>=19.1.0->pydrive2>=1.19.0->pydrive2[fsspec]>=1.19.0->dvc_gdrive) (2.21)\n",
      "Requirement already satisfied: prompt-toolkit>=3.0.36 in c:\\users\\user\\appdata\\local\\programs\\python\\python310\\lib\\site-packages (from click-repl>=0.2.0->celery<6,>=5.3.0->dvc-task<1,>=0.3.0->dvc->dvc_gdrive) (3.0.43)\n",
      "Requirement already satisfied: smmap<6,>=3.0.1 in c:\\users\\user\\appdata\\local\\programs\\python\\python310\\lib\\site-packages (from gitdb<5,>=4.0.1->gitpython>3->scmrepo<4,>=3->dvc->dvc_gdrive) (5.0.1)\n",
      "Requirement already satisfied: wcwidth in c:\\users\\user\\appdata\\local\\programs\\python\\python310\\lib\\site-packages (from prompt-toolkit>=3.0.36->click-repl>=0.2.0->celery<6,>=5.3.0->dvc-task<1,>=0.3.0->dvc->dvc_gdrive) (0.2.5)\n",
      "Downloading dvc_gdrive-3.0.1-py3-none-any.whl (11 kB)\n",
      "Downloading PyDrive2-1.19.0-py3-none-any.whl (46 kB)\n",
      "   ---------------------------------------- 46.7/46.7 kB ? eta 0:00:00\n",
      "Downloading google_api_python_client-2.118.0-py2.py3-none-any.whl (12.1 MB)\n",
      "   ---------------------------------------- 12.1/12.1 MB 3.2 MB/s eta 0:00:00\n",
      "Downloading google_api_core-2.17.1-py3-none-any.whl (137 kB)\n",
      "   ---------------------------------------- 137.0/137.0 kB 2.0 MB/s eta 0:00:00\n",
      "Downloading google_auth_httplib2-0.2.0-py2.py3-none-any.whl (9.3 kB)\n",
      "Downloading httplib2-0.22.0-py3-none-any.whl (96 kB)\n",
      "   ---------------------------------------- 96.9/96.9 kB 5.8 MB/s eta 0:00:00\n",
      "Downloading googleapis_common_protos-1.62.0-py2.py3-none-any.whl (228 kB)\n",
      "   ---------------------------------------- 228.7/228.7 kB 1.7 MB/s eta 0:00:00\n",
      "Installing collected packages: uritemplate, httplib2, googleapis-common-protos, oauth2client, google-auth-httplib2, google-api-core, google-api-python-client, pydrive2, dvc_gdrive\n",
      "Successfully installed dvc_gdrive-3.0.1 google-api-core-2.17.1 google-api-python-client-2.118.0 google-auth-httplib2-0.2.0 googleapis-common-protos-1.62.0 httplib2-0.22.0 oauth2client-4.1.3 pydrive2-1.19.0 uritemplate-4.1.1\n",
      "Note: you may need to restart the kernel to use updated packages.\n"
     ]
    }
   ],
   "source": [
    "pip install dvc_gdrive"
   ]
  },
  {
   "cell_type": "code",
   "execution_count": 52,
   "metadata": {},
   "outputs": [
    {
     "name": "stdout",
     "output_type": "stream",
     "text": [
      "Your browser has been opened to visit:\n",
      "\n",
      "    https://accounts.google.com/o/oauth2/auth?client_id=710796635688-iivsgbgsb6uv1fap6635dhvuei09o66c.apps.googleusercontent.com&redirect_uri=http%3A%2F%2Flocalhost%3A8080%2F&scope=https%3A%2F%2Fwww.googleapis.com%2Fauth%2Fdrive+https%3A%2F%2Fwww.googleapis.com%2Fauth%2Fdrive.appdata&access_type=offline&response_type=code&approval_prompt=force\n",
      "\n",
      "Authentication successful.\n",
      "4 files pushed\n"
     ]
    },
    {
     "name": "stderr",
     "output_type": "stream",
     "text": [
      "c:\\Users\\User\\AppData\\Local\\Programs\\Python\\Python310\\lib\\site-packages\\oauth2client\\_helpers.py:255: UserWarning: Cannot access C:\\Users\\User\\AppData\\Local\\pydrive2fs\\Cache\\710796635688-iivsgbgsb6uv1fap6635dhvuei09o66c.apps.googleusercontent.com\\default.json: No such file or directory\n",
      "  warnings.warn(_MISSING_FILE_MESSAGE.format(filename))\n"
     ]
    }
   ],
   "source": [
    "!dvc push"
   ]
  },
  {
   "cell_type": "code",
   "execution_count": 53,
   "metadata": {},
   "outputs": [],
   "source": [
    "# Update the splits with a different random seed\n",
    "train, test = train_test_split(preprocessed_raw_data, test_size=0.15, random_state=88)\n",
    "train, val = train_test_split(train, test_size=0.2, random_state=88)"
   ]
  },
  {
   "cell_type": "code",
   "execution_count": 55,
   "metadata": {},
   "outputs": [
    {
     "name": "stdout",
     "output_type": "stream",
     "text": [
      "d:\\Applied ML\n"
     ]
    }
   ],
   "source": [
    "%cd d:\\\"Applied ML\"\\code"
   ]
  },
  {
   "cell_type": "code",
   "execution_count": 56,
   "metadata": {},
   "outputs": [],
   "source": [
    "train.to_csv('ASS_2/Data/train.csv', index=False)\n",
    "val.to_csv('ASS_2/Data/validation.csv', index=False)\n",
    "test.to_csv('ASS_2/Data/test.csv', index=False)"
   ]
  },
  {
   "cell_type": "code",
   "execution_count": 57,
   "metadata": {},
   "outputs": [
    {
     "name": "stdout",
     "output_type": "stream",
     "text": [
      "D:\\Applied ML\\ASS_2\\Data\n"
     ]
    }
   ],
   "source": [
    "%cd D:\\Applied ML\\ASS_2\\Data"
   ]
  },
  {
   "cell_type": "code",
   "execution_count": 58,
   "metadata": {},
   "outputs": [],
   "source": [
    "!dvc add train.csv validation.csv test.csv"
   ]
  },
  {
   "cell_type": "code",
   "execution_count": 59,
   "metadata": {},
   "outputs": [],
   "source": [
    "!git add train.csv.dvc validation.csv.dvc test.csv.dvc"
   ]
  },
  {
   "cell_type": "code",
   "execution_count": 60,
   "metadata": {},
   "outputs": [
    {
     "name": "stdout",
     "output_type": "stream",
     "text": [
      "[master e0ed50f] Update data splits with new random seed\n",
      " 3 files changed, 6 insertions(+), 6 deletions(-)\n"
     ]
    }
   ],
   "source": [
    "!git commit -m \"Update data splits with new random seed\""
   ]
  },
  {
   "cell_type": "code",
   "execution_count": 61,
   "metadata": {},
   "outputs": [
    {
     "name": "stdout",
     "output_type": "stream",
     "text": [
      "3 files pushed\n"
     ]
    }
   ],
   "source": [
    "!dvc push"
   ]
  },
  {
   "cell_type": "code",
   "execution_count": 62,
   "metadata": {},
   "outputs": [
    {
     "name": "stdout",
     "output_type": "stream",
     "text": [
      "commit e0ed50f99cabf1a42e4a42532802c7be67fd392d\n",
      "Author: sohamsg8 <sohamsengupta44@gmail.com>\n",
      "Date:   Mon Feb 19 15:04:02 2024 +0530\n",
      "\n",
      "    Update data splits with new random seed\n",
      "\n",
      "commit 1ff0db695a18d9ae45a1503909c7164d84b7c948\n",
      "Author: sohamsg8 <sohamsengupta44@gmail.com>\n",
      "Date:   Mon Feb 19 14:57:29 2024 +0530\n",
      "\n",
      "    Track data with DVC\n",
      "\n",
      "commit 7ccba05f805b6e683d952e17115a66c91a11b75b\n",
      "Author: sohamsg8 <sohamsengupta44@gmail.com>\n",
      "Date:   Mon Feb 19 14:46:46 2024 +0530\n",
      "\n",
      "    Configure Google Drive as DVC remote storage\n",
      "\n",
      "commit 854a6767d8e1df158822686cf09e683416f56a8f\n",
      "Author: sohamsg8 <sohamsengupta44@gmail.com>\n",
      "Date:   Mon Feb 19 14:36:03 2024 +0530\n",
      "\n",
      "    Initial commit\n"
     ]
    }
   ],
   "source": [
    "!git log"
   ]
  },
  {
   "cell_type": "markdown",
   "metadata": {},
   "source": [
    "### <first_version_hash> = 1ff0db695a18d9ae45a1503909c7164d84b7c948"
   ]
  },
  {
   "cell_type": "code",
   "execution_count": 63,
   "metadata": {},
   "outputs": [
    {
     "name": "stdout",
     "output_type": "stream",
     "text": [
      "D:\\Applied ML\\ASS_2\\Data\n"
     ]
    }
   ],
   "source": [
    "%cd D:\\Applied ML\\ASS_2\\Data"
   ]
  },
  {
   "cell_type": "code",
   "execution_count": 64,
   "metadata": {},
   "outputs": [
    {
     "name": "stderr",
     "output_type": "stream",
     "text": [
      "Updated 3 paths from 74499f8\n"
     ]
    }
   ],
   "source": [
    "!git checkout 1ff0db695a18d9ae45a1503909c7164d84b7c948 train.csv.dvc validation.csv.dvc test.csv.dvc\n"
   ]
  },
  {
   "cell_type": "code",
   "execution_count": 65,
   "metadata": {},
   "outputs": [
    {
     "name": "stdout",
     "output_type": "stream",
     "text": [
      "M       validation.csv\n",
      "M       test.csv\n",
      "M       train.csv\n"
     ]
    }
   ],
   "source": [
    "!dvc checkout"
   ]
  },
  {
   "cell_type": "code",
   "execution_count": 67,
   "metadata": {},
   "outputs": [
    {
     "name": "stdout",
     "output_type": "stream",
     "text": [
      "d:\\Applied ML\n"
     ]
    }
   ],
   "source": [
    "%cd d:\\Applied ML"
   ]
  },
  {
   "cell_type": "code",
   "execution_count": 68,
   "metadata": {},
   "outputs": [
    {
     "name": "stdout",
     "output_type": "stream",
     "text": [
      "Distribution in train.csv: \n",
      "spam\n",
      "0    2961\n",
      "1     933\n",
      "Name: count, dtype: int64\n",
      "\n",
      "Distribution in validation.csv: \n",
      "spam\n",
      "0    733\n",
      "1    241\n",
      "Name: count, dtype: int64\n",
      "\n",
      "Distribution in test.csv: \n",
      "spam\n",
      "0    666\n",
      "1    194\n",
      "Name: count, dtype: int64\n",
      "\n"
     ]
    }
   ],
   "source": [
    "# Print the distribution of the original split\n",
    "for split in ['train', 'validation', 'test']:\n",
    "    df = pd.read_csv(f'ASS_2/Data/{split}.csv')\n",
    "    distribution = df['spam'].value_counts()\n",
    "    print(f\"Distribution in {split}.csv: \\n{distribution}\\n\")"
   ]
  },
  {
   "cell_type": "markdown",
   "metadata": {},
   "source": [
    "### <updated_version_hash> = e0ed50f99cabf1a42e4a42532802c7be67fd392d"
   ]
  },
  {
   "cell_type": "code",
   "execution_count": 70,
   "metadata": {},
   "outputs": [
    {
     "name": "stdout",
     "output_type": "stream",
     "text": [
      "D:\\Applied ML\\ASS_2\\Data\n"
     ]
    }
   ],
   "source": [
    "%cd D:\\Applied ML\\ASS_2\\Data"
   ]
  },
  {
   "cell_type": "code",
   "execution_count": 71,
   "metadata": {},
   "outputs": [
    {
     "name": "stderr",
     "output_type": "stream",
     "text": [
      "Updated 3 paths from b40aa66\n"
     ]
    }
   ],
   "source": [
    "!git checkout e0ed50f99cabf1a42e4a42532802c7be67fd392d train.csv.dvc validation.csv.dvc test.csv.dvc"
   ]
  },
  {
   "cell_type": "code",
   "execution_count": 72,
   "metadata": {},
   "outputs": [
    {
     "name": "stdout",
     "output_type": "stream",
     "text": [
      "M       test.csv\n",
      "M       validation.csv\n",
      "M       train.csv\n"
     ]
    }
   ],
   "source": [
    "!dvc checkout"
   ]
  },
  {
   "cell_type": "code",
   "execution_count": 73,
   "metadata": {},
   "outputs": [
    {
     "name": "stdout",
     "output_type": "stream",
     "text": [
      "d:\\Applied ML\n"
     ]
    }
   ],
   "source": [
    "%cd d:\\Applied ML"
   ]
  },
  {
   "cell_type": "code",
   "execution_count": 74,
   "metadata": {},
   "outputs": [
    {
     "name": "stdout",
     "output_type": "stream",
     "text": [
      "Distribution in train.csv: \n",
      "spam\n",
      "0    2953\n",
      "1     941\n",
      "Name: count, dtype: int64\n",
      "\n",
      "Distribution in validation.csv: \n",
      "spam\n",
      "0    748\n",
      "1    226\n",
      "Name: count, dtype: int64\n",
      "\n",
      "Distribution in test.csv: \n",
      "spam\n",
      "0    659\n",
      "1    201\n",
      "Name: count, dtype: int64\n",
      "\n"
     ]
    }
   ],
   "source": [
    "# Print the distribution of the updated split\n",
    "for split in ['train', 'validation', 'test']:\n",
    "    df = pd.read_csv(f'ASS_2/Data/{split}.csv')\n",
    "    distribution = df['spam'].value_counts()\n",
    "    print(f\"Distribution in {split}.csv: \\n{distribution}\\n\")"
   ]
  },
  {
   "cell_type": "code",
   "execution_count": 75,
   "metadata": {},
   "outputs": [
    {
     "name": "stdout",
     "output_type": "stream",
     "text": [
      " Volume in drive D is New Volume\n",
      " Volume Serial Number is BE94-2C72\n",
      "\n",
      " Directory of d:\\Applied ML\n",
      "\n",
      "19-02-2024  14:44    <DIR>          .\n",
      "19-02-2024  14:56    <DIR>          .dvc\n",
      "19-02-2024  14:36               142 .dvcignore\n",
      "05-02-2024  14:32         2,994,798 archive.zip\n",
      "19-02-2024  14:53    <DIR>          ASS_2\n",
      "05-02-2024  17:33    <DIR>          Assignment 1\n",
      "19-02-2024  14:14    <DIR>          Code\n",
      "19-02-2024  14:20    <DIR>          Data\n",
      "05-02-2024  15:26             5,263 prepare.ipynb\n",
      "19-02-2024  14:09            19,627 prepare_2.ipynb\n",
      "05-02-2024  15:26            21,527 train.ipynb\n",
      "19-02-2024  14:10            13,423 train_2.ipynb\n",
      "               6 File(s)      3,054,780 bytes\n",
      "               6 Dir(s)   4,608,962,560 bytes free\n"
     ]
    }
   ],
   "source": [
    "%ls"
   ]
  }
 ],
 "metadata": {
  "kernelspec": {
   "display_name": "Python 3",
   "language": "python",
   "name": "python3"
  },
  "language_info": {
   "codemirror_mode": {
    "name": "ipython",
    "version": 3
   },
   "file_extension": ".py",
   "mimetype": "text/x-python",
   "name": "python",
   "nbconvert_exporter": "python",
   "pygments_lexer": "ipython3",
   "version": "3.10.6"
  }
 },
 "nbformat": 4,
 "nbformat_minor": 2
}
